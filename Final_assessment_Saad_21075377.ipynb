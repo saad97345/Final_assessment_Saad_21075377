{
  "nbformat": 4,
  "nbformat_minor": 0,
  "metadata": {
    "colab": {
      "provenance": [],
      "authorship_tag": "ABX9TyP6sZ+WEO9t4bIypRv7CDYO",
      "include_colab_link": true
    },
    "kernelspec": {
      "name": "python3",
      "display_name": "Python 3"
    },
    "language_info": {
      "name": "python"
    }
  },
  "cells": [
    {
      "cell_type": "markdown",
      "metadata": {
        "id": "view-in-github",
        "colab_type": "text"
      },
      "source": [
        "<a href=\"https://colab.research.google.com/github/saad97345/Final_assessment_Saad_21075377/blob/main/Final_assessment_Saad_21075377.ipynb\" target=\"_parent\"><img src=\"https://colab.research.google.com/assets/colab-badge.svg\" alt=\"Open In Colab\"/></a>"
      ]
    },
    {
      "cell_type": "markdown",
      "source": [
        "## **INTRODUCTION**"
      ],
      "metadata": {
        "id": "4bCihNGllc-6"
      }
    },
    {
      "cell_type": "markdown",
      "source": [
        "In this report i have stated the problem which is to design an application Python's Cafe owner, Ms. Robyn\n",
        "to calculate the cost of their customers’ meal orders. for which i have to find a problem first then i have to take \n",
        "inputs and process the output for it.Then i haven to do a problem by hand for my own understanding.After that, \n",
        "i have to write a pseudocode which can help me write a code for the program easily.Moreover, we have to convert \n",
        "pseudocode into python coding and then have to run it with the variety of data ."
      ],
      "metadata": {
        "id": "e6bCaQ8Klz0W"
      }
    }
  ]
}